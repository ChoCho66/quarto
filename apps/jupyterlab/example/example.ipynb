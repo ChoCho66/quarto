{
 "cells": [
  {
   "cell_type": "markdown",
   "id": "eca5659e-8bf6-4dde-8a22-9646cb9cd2e1",
   "metadata": {},
   "source": [
    "---\n",
    "title: Hello World\n",
    "author: Charles Teague\n",
    "date: last-modified\n",
    "abstract: |\n",
    "  The text of your abstract. 200 or fewer words.\n",
    "format:\n",
    "  html:\n",
    "    theme: spacelab\n",
    "  pdf: default\n",
    "---"
   ]
  },
  {
   "cell_type": "markdown",
   "id": "735ee148-2227-4aa9-8d27-420cbb31f63b",
   "metadata": {},
   "source": [
    "### Fenced Divs\n",
    "\n",
    ":::{#foobar .class1 myAttr=\"cool\"}\n",
    "\n",
    "Hi! This is the body of a div!\n",
    "\n",
    ":::"
   ]
  },
  {
   "cell_type": "markdown",
   "id": "2e5829e2-88ce-4e8f-a9aa-7ca716084908",
   "metadata": {
    "jp-MarkdownHeadingCollapsed": true,
    "tags": []
   },
   "source": [
    "### Citations\n",
    "\n",
    "This a good point, made by @knuth1984. I also think that -@teague2015 is cool. See other good stuff [@jones2043]. So is @{cool.guy.23!}."
   ]
  },
  {
   "cell_type": "markdown",
   "id": "e088535b-4cde-4ab0-8cb2-2038781acf03",
   "metadata": {
    "jp-MarkdownHeadingCollapsed": true,
    "tags": []
   },
   "source": [
    "hi\n",
    "\n",
    "\n",
    "\n",
    "\n",
    "### Callouts{.foobar}\n",
    "\n",
    "This is a markdown cell with some content in it, which includes a callout, which is a pretty looking thing!\n",
    "\n",
    ":::{.callout-tip}\n",
    "\n",
    "## Hello World\n",
    "\n",
    "This is some content **what up**\n",
    "\n",
    ":::\n"
   ]
  },
  {
   "cell_type": "markdown",
   "id": "b089443c-d7a2-46eb-b198-7b15611772c6",
   "metadata": {},
   "source": [
    "### Mermaid\n",
    "\n",
    "```{mermaid}\n",
    "flowchart LR\n",
    "  A[Hard edge] --> B(Round edge)\n",
    "  B --> C{Decision}\n",
    "  C --> D[Result one]\n",
    "  C --> E[Result two]\n",
    "```"
   ]
  },
  {
   "cell_type": "markdown",
   "id": "4082b21b-c1c9-4895-ae6d-62ffc4af4952",
   "metadata": {},
   "source": [
    "### Figures\n",
    "\n",
    "\n",
    "#### This Works \n",
    "\n",
    "![A very cool image of a person working very hard.](working.jpeg)\n",
    "\n",
    "#### This Doesn't\n",
    "\n",
    "![A very cool image of a person working very hard.](working.jpeg){#fig-elephant}\n",
    "\n",
    "This is illustrated well by @fig-elephant.\n",
    "\n",
    "\n",
    "#### Figure Div\n",
    "\n",
    ":::{#fig-elephant}\n",
    "\n",
    "This is a test\n",
    "\n",
    "A very cool image of a person working very hard.\n",
    "\n",
    ":::"
   ]
  },
  {
   "cell_type": "markdown",
   "id": "fe3b223e-d7c9-4a9e-b3d3-ab1745b41537",
   "metadata": {},
   "source": [
    "### Code Highlighted Code\n",
    "\n",
    "```javascript\n",
    "let foo = \"bar\";\n",
    "```"
   ]
  },
  {
   "cell_type": "markdown",
   "id": "69dadc76-2342-4d1b-9cf4-5788a70b43c6",
   "metadata": {
    "tags": []
   },
   "source": [
    "### Tables\n",
    "\n",
    "#### Grid\n",
    "\n",
    "+---------------+---------------+--------------------+\n",
    "| Fruit         | Price         | Advantages         |\n",
    "+===============+===============+====================+\n",
    "| Bananas       | $1.34         | - built-in wrapper |\n",
    "|               |               | - bright color     |\n",
    "+---------------+---------------+--------------------+\n",
    "| Oranges       | $2.10         | - cures scurvy     |\n",
    "|               |               | - tasty            |\n",
    "+---------------+---------------+--------------------+\n",
    "\n",
    "#### Markdown Tables\n",
    "\n",
    "| Col1 | Col2 | Col3 |\n",
    "|------|------|------|\n",
    "| A    | B    | C    |\n",
    "| E    | F    | G    |\n",
    "| A    | G    | G    |\n",
    "\n",
    ": My Caption {#tbl-letters}\n",
    "\n",
    "See @tbl-letters."
   ]
  },
  {
   "cell_type": "markdown",
   "id": "fac0694d-82e1-4571-aa34-3b75857f9bec",
   "metadata": {},
   "source": [
    "### Sub and Superscript Text\n",
    "\n",
    "H~2~O is a liquid.  2^10^ is 1024."
   ]
  },
  {
   "cell_type": "markdown",
   "id": "e514bcab-86a6-443b-aa56-8c153ae46250",
   "metadata": {
    "tags": []
   },
   "source": [
    "### Task Lists\n",
    "\n",
    "- [ ] an unchecked task list item\n",
    "- [x] checked item\n"
   ]
  },
  {
   "cell_type": "markdown",
   "id": "32c9e9ea-cde6-4fc2-a322-08428e7c7f71",
   "metadata": {
    "tags": []
   },
   "source": [
    "### Tabsets (?)\n",
    "\n",
    "### Lists?\n",
    "\n",
    "### Math\n",
    "\n",
    "$\\sqrt{3x-1}+(1+x)^2$\n",
    "\n",
    "$$\\begin{array}{c}\n",
    "\n",
    "\\nabla \\times \\vec{\\mathbf{B}} -\\, \\frac1c\\, \\frac{\\partial\\vec{\\mathbf{E}}}{\\partial t} &\n",
    "= \\frac{4\\pi}{c}\\vec{\\mathbf{j}}    \\nabla \\cdot \\vec{\\mathbf{E}} & = 4 \\pi \\rho \\\\\n",
    "\n",
    "\\nabla \\times \\vec{\\mathbf{E}}\\, +\\, \\frac1c\\, \\frac{\\partial\\vec{\\mathbf{B}}}{\\partial t} & = \\vec{\\mathbf{0}} \\\\\n",
    "\n",
    "\\nabla \\cdot \\vec{\\mathbf{B}} & = 0\n",
    "\n",
    "\\end{array}$$\n"
   ]
  },
  {
   "cell_type": "markdown",
   "id": "643e46f6-28d8-491f-a23a-e21d49e0ce4b",
   "metadata": {},
   "source": [
    "### Tabsets\n",
    "\n",
    ":::{.panel-tabset}\n",
    "\n",
    "## R\n",
    "\n",
    "```r\n",
    "fizz_buzz <- function(fbnums = 1:50) {\n",
    "  output <- dplyr::case_when(\n",
    "    fbnums %% 15 == 0 ~ \"FizzBuzz\",\n",
    "    fbnums %% 3 == 0 ~ \"Fizz\",\n",
    "    fbnums %% 5 == 0 ~ \"Buzz\",\n",
    "    TRUE ~ as.character(fbnums)\n",
    "  )\n",
    "  print(output)\n",
    "}\n",
    "```\n",
    "\n",
    "## Python\n",
    "\n",
    "```python\n",
    "def fizz_buzz(num):\n",
    "  if num % 15 == 0:\n",
    "    print(\"FizzBuzz\")\n",
    "  elif num % 5 == 0:\n",
    "    print(\"Buzz\")\n",
    "  elif num % 3 == 0:\n",
    "    print(\"Fizz\")\n",
    "  else:\n",
    "    print(num)\n",
    "```\n",
    "\n",
    ":::"
   ]
  },
  {
   "cell_type": "markdown",
   "id": "84a3cf0d-5d47-4f38-940e-60a1a9b34d42",
   "metadata": {},
   "source": [
    "### Code\n",
    "\n",
    "```python\n",
    "def fizz_buzz(num):\n",
    "  if num % 15 == 0:\n",
    "    print(\"FizzBuzz\")\n",
    "  elif num % 5 == 0:\n",
    "    print(\"Buzz\")\n",
    "  elif num % 3 == 0:\n",
    "    print(\"Fizz\")\n",
    "  else:\n",
    "    print(num)\n",
    "```"
   ]
  },
  {
   "cell_type": "markdown",
   "id": "b5a018b8-8ef0-4dae-b733-83fe4a3376a5",
   "metadata": {},
   "source": [
    "\n",
    "```{{r}}\n",
    "\n",
    "foo <- \"bar\"\n",
    "\n",
    "```"
   ]
  },
  {
   "cell_type": "code",
   "execution_count": null,
   "id": "0161ce7c-0bdf-4725-8cef-cfc48227876c",
   "metadata": {},
   "outputs": [],
   "source": []
  }
 ],
 "metadata": {
  "kernelspec": {
   "display_name": "Python 3 (ipykernel)",
   "language": "python",
   "name": "python3"
  },
  "language_info": {
   "codemirror_mode": {
    "name": "ipython",
    "version": 3
   },
   "file_extension": ".py",
   "mimetype": "text/x-python",
   "name": "python",
   "nbconvert_exporter": "python",
   "pygments_lexer": "ipython3",
   "version": "3.11.2"
  }
 },
 "nbformat": 4,
 "nbformat_minor": 5
}
