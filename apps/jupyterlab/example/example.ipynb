{
 "cells": [
  {
   "cell_type": "markdown",
   "id": "b089443c-d7a2-46eb-b198-7b15611772c6",
   "metadata": {},
   "source": [
    "### Mermaid\n",
    "\n",
    "```mermaid\n",
    "flowchart TD;\n",
    "    1-->2;\n",
    "    2-->3;\n",
    "    2-->3;\n",
    "    3-->4;\n",
    "    3-->5;\n",
    "    5-->2;\n",
    "    A-->5;\n",
    "    A-->1;\n",
    "```"
   ]
  },
  {
   "cell_type": "markdown",
   "id": "4e952789-3998-45e7-a90c-cf9e0ce7fe3c",
   "metadata": {},
   "source": [
    "### Footnotes\n",
    "\n",
    "This is a test of the emergency broadcasting system [^1].\n",
    "\n",
    "[^1]: Is this proper footnote syntax?"
   ]
  },
  {
   "cell_type": "markdown",
   "id": "83add30b-d426-4bd7-9146-5bbe30ec8dd9",
   "metadata": {},
   "source": [
    "```javascript\n",
    "let foo = \"bar\";\n",
    "const bar = \"foo\";\n",
    "```"
   ]
  },
  {
   "cell_type": "markdown",
   "id": "e088535b-4cde-4ab0-8cb2-2038781acf03",
   "metadata": {
    "tags": []
   },
   "source": [
    "### Callouts\n",
    "\n",
    "This is a markdown cell with some content in it, which includes a callout, which is a pretty looking thing!\n",
    "\n",
    ":::{.callout-tip}\n",
    "\n",
    "## Hello World\n",
    "\n",
    "This is some content **what up**\n",
    "\n",
    ":::"
   ]
  },
  {
   "cell_type": "markdown",
   "id": "fe3b223e-d7c9-4a9e-b3d3-ab1745b41537",
   "metadata": {},
   "source": [
    "### Code Highlighted Code\n",
    "\n",
    "```javascript\n",
    "let foo = \"bar\";\n",
    "```"
   ]
  },
  {
   "cell_type": "markdown",
   "id": "4082b21b-c1c9-4895-ae6d-62ffc4af4952",
   "metadata": {},
   "source": [
    "### Implicit Figures\n",
    "\n",
    "\n",
    "![A very cool image of a person working very hard.](working.jpeg)\n",
    "\n"
   ]
  },
  {
   "cell_type": "markdown",
   "id": "69dadc76-2342-4d1b-9cf4-5788a70b43c6",
   "metadata": {},
   "source": [
    "### Grid Tables\n",
    "\n",
    "+---------------+---------------+--------------------+\n",
    "| Fruit         | Price         | Advantages         |\n",
    "+===============+===============+====================+\n",
    "| Bananas       | $1.34         | - built-in wrapper |\n",
    "|               |               | - bright color     |\n",
    "+---------------+---------------+--------------------+\n",
    "| Oranges       | $2.10         | - cures scurvy     |\n",
    "|               |               | - tasty            |\n",
    "+---------------+---------------+--------------------+"
   ]
  },
  {
   "cell_type": "code",
   "execution_count": 1,
   "id": "24169e48-5d18-4a6a-a022-b7e4979397e6",
   "metadata": {},
   "outputs": [
    {
     "ename": "SyntaxError",
     "evalue": "invalid syntax (686761710.py, line 3)",
     "output_type": "error",
     "traceback": [
      "\u001b[0;36m  Cell \u001b[0;32mIn[1], line 3\u001b[0;36m\u001b[0m\n\u001b[0;31m    H~2~O\u001b[0m\n\u001b[0m     ^\u001b[0m\n\u001b[0;31mSyntaxError\u001b[0m\u001b[0;31m:\u001b[0m invalid syntax\n"
     ]
    }
   ],
   "source": [
    "### Sub and Superscript Text\n",
    "\n",
    "H~2~O is a liquid.  2^10^ is 1024."
   ]
  },
  {
   "cell_type": "code",
   "execution_count": null,
   "id": "a42dbe2f-2705-4f8e-9d45-5c8d1528d66f",
   "metadata": {},
   "outputs": [],
   "source": []
  }
 ],
 "metadata": {
  "kernelspec": {
   "display_name": "Python 3 (ipykernel)",
   "language": "python",
   "name": "python3"
  },
  "language_info": {
   "codemirror_mode": {
    "name": "ipython",
    "version": 3
   },
   "file_extension": ".py",
   "mimetype": "text/x-python",
   "name": "python",
   "nbconvert_exporter": "python",
   "pygments_lexer": "ipython3",
   "version": "3.11.2"
  }
 },
 "nbformat": 4,
 "nbformat_minor": 5
}
