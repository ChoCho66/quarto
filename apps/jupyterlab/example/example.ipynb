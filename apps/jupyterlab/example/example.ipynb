{
 "cells": [
  {
   "cell_type": "markdown",
   "id": "735ee148-2227-4aa9-8d27-420cbb31f63b",
   "metadata": {},
   "source": [
    "### Fenced Divs\n",
    "\n",
    ":::{#foobar .class1 myAttr=\"cool\"}\n",
    "\n",
    "Hi! This is the body of a div!\n",
    "\n",
    ":::"
   ]
  },
  {
   "cell_type": "markdown",
   "id": "2e5829e2-88ce-4e8f-a9aa-7ca716084908",
   "metadata": {
    "tags": []
   },
   "source": [
    "### Citations\n",
    "\n",
    "This a good point, made by @knuth1984. I also think that -@teague2015 is cool. See other good stuff [@jones2043]."
   ]
  },
  {
   "cell_type": "markdown",
   "id": "b089443c-d7a2-46eb-b198-7b15611772c6",
   "metadata": {},
   "source": [
    "### Mermaid\n",
    "\n",
    "```mermaid\n",
    "flowchart TD;\n",
    "    1-->2;\n",
    "    2-->3;\n",
    "    2-->3;\n",
    "    3-->4;\n",
    "    3-->5;\n",
    "    5-->2;\n",
    "    A-->5;\n",
    "    A-->1;\n",
    "```\n",
    "\n",
    "```{mermaid}\n",
    "flowchart LR\n",
    "  A[Hard edge] --> B(Round edge)\n",
    "  B --> C{Decision}\n",
    "  C --> D[Result one]\n",
    "  C --> E[Result two]\n",
    "```"
   ]
  },
  {
   "cell_type": "markdown",
   "id": "4082b21b-c1c9-4895-ae6d-62ffc4af4952",
   "metadata": {},
   "source": [
    "### Implicit Figures\n",
    "\n",
    "\n",
    "![A very cool image of a person working very hard.](working.jpeg)\n",
    "\n"
   ]
  },
  {
   "cell_type": "markdown",
   "id": "fe3b223e-d7c9-4a9e-b3d3-ab1745b41537",
   "metadata": {},
   "source": [
    "### Code Highlighted Code\n",
    "\n",
    "```javascript\n",
    "let foo = \"bar\";\n",
    "```"
   ]
  },
  {
   "cell_type": "markdown",
   "id": "e088535b-4cde-4ab0-8cb2-2038781acf03",
   "metadata": {
    "jp-MarkdownHeadingCollapsed": true,
    "tags": []
   },
   "source": [
    "### Callouts\n",
    "\n",
    "This is a markdown cell with some content in it, which includes a callout, which is a pretty looking thing!\n",
    "\n",
    ":::{.callout-warning}\n",
    "\n",
    "## Hello World\n",
    "\n",
    "This is some content **what up**\n",
    "\n",
    ":::\n"
   ]
  },
  {
   "cell_type": "markdown",
   "id": "69dadc76-2342-4d1b-9cf4-5788a70b43c6",
   "metadata": {
    "tags": []
   },
   "source": [
    "### Grid Tables\n",
    "\n",
    "+---------------+---------------+--------------------+\n",
    "| Fruit         | Price         | Advantages         |\n",
    "+===============+===============+====================+\n",
    "| Bananas       | $1.34         | - built-in wrapper |\n",
    "|               |               | - bright color     |\n",
    "+---------------+---------------+--------------------+\n",
    "| Oranges       | $2.10         | - cures scurvy     |\n",
    "|               |               | - tasty            |\n",
    "+---------------+---------------+--------------------+"
   ]
  },
  {
   "cell_type": "markdown",
   "id": "fac0694d-82e1-4571-aa34-3b75857f9bec",
   "metadata": {},
   "source": [
    "### Sub and Superscript Text\n",
    "\n",
    "H~2~O is a liquid.  2^10^ is 1024."
   ]
  },
  {
   "cell_type": "markdown",
   "id": "e514bcab-86a6-443b-aa56-8c153ae46250",
   "metadata": {
    "jp-MarkdownHeadingCollapsed": true,
    "tags": []
   },
   "source": [
    "### Task Lists\n",
    "\n",
    "- [ ] an unchecked task list item\n",
    "- [x] checked item\n"
   ]
  },
  {
   "cell_type": "code",
   "execution_count": null,
   "id": "61f6a66a-eeb4-4e26-9250-ed549dce0e1f",
   "metadata": {},
   "outputs": [],
   "source": []
  }
 ],
 "metadata": {
  "kernelspec": {
   "display_name": "Python 3 (ipykernel)",
   "language": "python",
   "name": "python3"
  },
  "language_info": {
   "codemirror_mode": {
    "name": "ipython",
    "version": 3
   },
   "file_extension": ".py",
   "mimetype": "text/x-python",
   "name": "python",
   "nbconvert_exporter": "python",
   "pygments_lexer": "ipython3",
   "version": "3.11.2"
  }
 },
 "nbformat": 4,
 "nbformat_minor": 5
}
